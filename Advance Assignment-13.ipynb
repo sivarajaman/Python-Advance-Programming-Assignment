{
 "cells": [
  {
   "cell_type": "code",
   "execution_count": 1,
   "id": "a2e6d35b",
   "metadata": {},
   "outputs": [
    {
     "name": "stdout",
     "output_type": "stream",
     "text": [
      "remove_letters(['s', 't', 'r', 'i', 'n', 'g', 'w'], 'string') ➞ ['w']\n",
      "remove_letters(['b', 'b', 'l', 'l', 'g', 'n', 'o', 'a', 'w'], 'balloon') ➞ ['b', 'g', 'w']\n",
      "remove_letters(['d', 'b', 't', 'e', 'a', 'i'], 'edabit') ➞ []\n"
     ]
    }
   ],
   "source": [
    "def remove_letters(in_list,in_string):\n",
    "    in_list_copy = in_list.copy()\n",
    "    for ele in in_string:\n",
    "        if ele in in_list:\n",
    "            in_list.remove(ele)\n",
    "    print(f'remove_letters{in_list_copy,in_string} ➞ {in_list}')\n",
    "\n",
    "remove_letters([\"s\", \"t\", \"r\", \"i\", \"n\", \"g\", \"w\"], \"string\")\n",
    "remove_letters([\"b\", \"b\", \"l\", \"l\", \"g\", \"n\", \"o\", \"a\", \"w\"], \"balloon\")\n",
    "remove_letters([\"d\", \"b\", \"t\", \"e\", \"a\", \"i\"], \"edabit\")"
   ]
  },
  {
   "cell_type": "code",
   "execution_count": 2,
   "id": "ecdfcf41",
   "metadata": {},
   "outputs": [
    {
     "name": "stdout",
     "output_type": "stream",
     "text": [
      "blocks(1) ➞ 5\n",
      "blocks(2) ➞ 12\n",
      "blocks(3) ➞ 20\n",
      "blocks(4) ➞ 29\n",
      "blocks(5) ➞ 39\n"
     ]
    }
   ],
   "source": [
    "def blocks(in_num):\n",
    "    depth = in_num*3+((in_num)-1)*1\n",
    "    height = [x for x in range(2,in_num+2)]\n",
    "    print(f'blocks({in_num}) ➞ {depth+sum(height)}')\n",
    "        \n",
    "blocks(1)\n",
    "blocks(2)\n",
    "blocks(3)\n",
    "blocks(4)\n",
    "blocks(5)"
   ]
  },
  {
   "cell_type": "code",
   "execution_count": 3,
   "id": "b76647cd",
   "metadata": {},
   "outputs": [
    {
     "name": "stdout",
     "output_type": "stream",
     "text": [
      "my_sub(5, 9) ➞ 4\n",
      "my_sub(10, 30) ➞ 20\n",
      "my_sub(0, 0) ➞ 0\n"
     ]
    }
   ],
   "source": [
    "from operator import sub\n",
    "def my_sub(in_one,in_two):\n",
    "    output = sub(in_one,in_two) if in_one >= in_two else sub(in_two,in_one)\n",
    "    print(f'my_sub{in_one,in_two} ➞ {output}')\n",
    "    \n",
    "my_sub(5, 9)\n",
    "my_sub(10, 30)\n",
    "my_sub(0, 0)"
   ]
  },
  {
   "cell_type": "code",
   "execution_count": 4,
   "id": "a5b1426a",
   "metadata": {},
   "outputs": [
    {
     "name": "stdout",
     "output_type": "stream",
     "text": [
      "add_bill(d20,p40,p60,d50) ➞ 70\n",
      "add_bill(p30,d20,p60,d150,p360) ➞ 170\n",
      "add_bill(p30,d2k,p60,d200,p360) ➞ 2200\n"
     ]
    }
   ],
   "source": [
    "def add_bill(in_string):\n",
    "    out_num = 0\n",
    "    for ele in in_string.split(\",\"):\n",
    "        if 'd' in ele:\n",
    "            if 'k' in ele:\n",
    "                out_num += int(ele.replace('d','').replace('k',''))*1000                \n",
    "            else:\n",
    "                out_num += int(ele.replace(\"d\",''))\n",
    "    print(f'add_bill({in_string}) ➞ {out_num}')\n",
    "    \n",
    "add_bill(\"d20,p40,p60,d50\")\n",
    "add_bill(\"p30,d20,p60,d150,p360\")\n",
    "add_bill(\"p30,d2k,p60,d200,p360\")"
   ]
  },
  {
   "cell_type": "code",
   "execution_count": 5,
   "id": "93d4836e",
   "metadata": {},
   "outputs": [
    {
     "name": "stdout",
     "output_type": "stream",
     "text": [
      "flip_list([1, 2, 3, 4]) ➞ [[1], [2], [3], [4]]\n",
      "flip_list([[5], [6], [9]]) ➞ [5, 6, 9]\n",
      "flip_list([]) ➞ []\n"
     ]
    }
   ],
   "source": [
    "def flip_list(in_list):\n",
    "    if len(in_list) > 0:\n",
    "        output = [ele[0] for ele in in_list] if isinstance(in_list[0],list) else [[ele] for ele in in_list]\n",
    "    else:\n",
    "        output = []\n",
    "    print(f'flip_list({in_list}) ➞ {output}')\n",
    "        \n",
    "flip_list([1,2,3,4]) \n",
    "flip_list([[5],[6],[9]])\n",
    "flip_list([])"
   ]
  },
  {
   "cell_type": "code",
   "execution_count": null,
   "id": "4fefcf6c",
   "metadata": {},
   "outputs": [],
   "source": []
  }
 ],
 "metadata": {
  "kernelspec": {
   "display_name": "Python 3 (ipykernel)",
   "language": "python",
   "name": "python3"
  },
  "language_info": {
   "codemirror_mode": {
    "name": "ipython",
    "version": 3
   },
   "file_extension": ".py",
   "mimetype": "text/x-python",
   "name": "python",
   "nbconvert_exporter": "python",
   "pygments_lexer": "ipython3",
   "version": "3.9.7"
  }
 },
 "nbformat": 4,
 "nbformat_minor": 5
}
