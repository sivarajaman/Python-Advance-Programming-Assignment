{
 "cells": [
  {
   "cell_type": "code",
   "execution_count": 1,
   "id": "7a51c9f3",
   "metadata": {},
   "outputs": [
    {
     "name": "stdout",
     "output_type": "stream",
     "text": [
      "vowel_links(a very large appliance) ➞ True\n",
      "vowel_links(go to edabit) ➞ True\n",
      "vowel_links(an open fire) ➞ False\n",
      "vowel_links(a sudden applause) ➞ False\n"
     ]
    }
   ],
   "source": [
    "def vowel_links(in_string):\n",
    "    in_list = in_string.split(\" \")\n",
    "    vowel_list = ['a','e','i','o','u']\n",
    "    end,start,output = False, False,False\n",
    "    for ele in range(len(in_list)):\n",
    "        temp = True if in_list[ele][-1] in vowel_list else False\n",
    "        start = True if in_list[ele][0] in vowel_list else False\n",
    "        if start == end == True:\n",
    "            output=True\n",
    "            break\n",
    "        end=temp\n",
    "    print(f'vowel_links({in_string}) ➞ {output}')\n",
    "                \n",
    "vowel_links(\"a very large appliance\")\n",
    "vowel_links(\"go to edabit\")\n",
    "vowel_links(\"an open fire\")\n",
    "vowel_links(\"a sudden applause\")"
   ]
  },
  {
   "cell_type": "code",
   "execution_count": 2,
   "id": "1631a42f",
   "metadata": {},
   "outputs": [
    {
     "name": "stdout",
     "output_type": "stream",
     "text": [
      "first_before_second_index(a rabbit jumps joyfully, a, j) ➞ True\n",
      "first_before_second_index(knaves knew about waterfalls, k, w) ➞ True\n",
      "first_before_second_index(happy birthday, a, y) ➞ False\n",
      "first_before_second_index(precarious kangaroos, k, a) ➞ False\n",
      "\n",
      "first_before_second_find(a rabbit jumps joyfully, a, j) ➞ True\n",
      "first_before_second_find(knaves knew about waterfalls, k, w) ➞ True\n",
      "first_before_second_find(happy birthday, a, y) ➞ False\n",
      "first_before_second_find(precarious kangaroos, k, a) ➞ False\n"
     ]
    }
   ],
   "source": [
    "def first_before_second_index(in_string,in_first,in_second):\n",
    "    last_occur_first = in_string.rindex(in_first)\n",
    "    first_occur_second = in_string.index(in_second)\n",
    "    output = True if last_occur_first < first_occur_second else False\n",
    "    print(f'first_before_second_index({in_string}, {in_first}, {in_second}) ➞ {output}')\n",
    "\n",
    "def first_before_second_find(in_string,in_first,in_second):\n",
    "    last_occur_first = in_string.rfind(in_first)\n",
    "    first_occur_second = in_string.find(in_second)\n",
    "    output = True if last_occur_first < first_occur_second else False\n",
    "    print(f'first_before_second_find({in_string}, {in_first}, {in_second}) ➞ {output}')\n",
    "\n",
    "first_before_second_index(\"a rabbit jumps joyfully\", \"a\", \"j\")\n",
    "first_before_second_index(\"knaves knew about waterfalls\", \"k\", \"w\")\n",
    "first_before_second_index(\"happy birthday\", \"a\", \"y\")\n",
    "first_before_second_index(\"precarious kangaroos\", \"k\", \"a\")\n",
    "print()\n",
    "first_before_second_find(\"a rabbit jumps joyfully\", \"a\", \"j\")\n",
    "first_before_second_find(\"knaves knew about waterfalls\", \"k\", \"w\")\n",
    "first_before_second_find(\"happy birthday\", \"a\", \"y\")\n",
    "first_before_second_find(\"precarious kangaroos\", \"k\", \"a\")"
   ]
  },
  {
   "cell_type": "code",
   "execution_count": 3,
   "id": "0ef8139e",
   "metadata": {},
   "outputs": [
    {
     "name": "stdout",
     "output_type": "stream",
     "text": [
      "char_at_pos([2, 4, 6, 8, 10], 'even') ➞ [4, 8]\n",
      "char_at_pos('EDABIT', 'odd') ➞ ['E', 'A', 'I']\n",
      "char_at_pos(['A', 'R', 'B', 'I', 'T', 'R', 'A', 'R', 'I', 'L', 'Y'], 'odd') ➞ ['A', 'B', 'T', 'A', 'I', 'Y']\n"
     ]
    }
   ],
   "source": [
    "def char_at_pos(in_list,mode):\n",
    "    out_list = []\n",
    "    for ele in range(len(in_list)):\n",
    "        if mode == 'even' and (ele+1)%2 == 0:\n",
    "            out_list.append(in_list[ele])\n",
    "        elif mode == 'odd' and (ele+1)%2 != 0:\n",
    "            out_list.append(in_list[ele])            \n",
    "    print(f'char_at_pos{in_list,mode} ➞ {out_list}')\n",
    "        \n",
    "        \n",
    "char_at_pos([2, 4, 6, 8, 10], \"even\")\n",
    "char_at_pos(\"EDABIT\", \"odd\")\n",
    "char_at_pos([\"A\", \"R\", \"B\", \"I\", \"T\", \"R\", \"A\", \"R\", \"I\", \"L\", \"Y\"], \"odd\")"
   ]
  },
  {
   "cell_type": "code",
   "execution_count": 4,
   "id": "f01ccddb",
   "metadata": {},
   "outputs": [
    {
     "name": "stdout",
     "output_type": "stream",
     "text": [
      "GCD([10, 20, 40]) ➞ 10\n",
      "GCD([1, 2, 3, 100]) ➞ 1\n",
      "GCD([1024, 192, 2048, 512]) ➞ 64\n"
     ]
    }
   ],
   "source": [
    "def GCD(in_list):\n",
    "    small = min(in_list)\n",
    "    gcd = -1\n",
    "    for i in range(1, small+1):\n",
    "        output = []\n",
    "        for ele in in_list:\n",
    "            output.append(ele%i)\n",
    "        if len(set(output)) == 1 and list(set(output))[0] == 0:\n",
    "            gcd = i\n",
    "    print(f'GCD({in_list}) ➞ {gcd}')\n",
    "    \n",
    "GCD([10, 20, 40])\n",
    "GCD([1, 2, 3, 100])\n",
    "GCD([1024, 192, 2048, 512])"
   ]
  },
  {
   "cell_type": "code",
   "execution_count": 5,
   "id": "04f54d8d",
   "metadata": {},
   "outputs": [
    {
     "name": "stdout",
     "output_type": "stream",
     "text": [
      "palindrome(1306031) ➞ Decimal only.\n",
      "palindrome(427787) ➞ Neither!\n",
      "palindrome(313) ➞ Decimal and binary.\n",
      "palindrome(934) ➞ Neither!\n"
     ]
    }
   ],
   "source": [
    "def palindrome_type(in_num):\n",
    "    output = None\n",
    "    if str(in_num) == str(in_num)[::-1] and str(bin(in_num)[2:]) == str(bin(in_num)[2:])[::-1]:\n",
    "        output = 'Decimal and binary.'\n",
    "    elif str(in_num) == str(in_num)[::-1] and str(bin(in_num)[2:]) != str(bin(in_num)[2:])[::-1]:\n",
    "        output = 'Decimal only.'\n",
    "    elif str(bin(in_num)[2:]) != str(bin(in_num)[2:])[::-1] and str(in_num) == str(in_num)[::-1]:\n",
    "        output = 'Binary only.'\n",
    "    else:\n",
    "        output = 'Neither!'\n",
    "    print(f'palindrome({in_num}) ➞ {output}')\n",
    "\n",
    "palindrome_type(1306031)\n",
    "palindrome_type(427787)\n",
    "palindrome_type(313)\n",
    "palindrome_type(934)"
   ]
  },
  {
   "cell_type": "code",
   "execution_count": null,
   "id": "b12fcb4c",
   "metadata": {},
   "outputs": [],
   "source": []
  }
 ],
 "metadata": {
  "kernelspec": {
   "display_name": "Python 3 (ipykernel)",
   "language": "python",
   "name": "python3"
  },
  "language_info": {
   "codemirror_mode": {
    "name": "ipython",
    "version": 3
   },
   "file_extension": ".py",
   "mimetype": "text/x-python",
   "name": "python",
   "nbconvert_exporter": "python",
   "pygments_lexer": "ipython3",
   "version": "3.9.7"
  }
 },
 "nbformat": 4,
 "nbformat_minor": 5
}
